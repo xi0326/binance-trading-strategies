{
 "cells": [
  {
   "cell_type": "code",
   "execution_count": 3,
   "id": "bc4e3507",
   "metadata": {},
   "outputs": [],
   "source": [
    "import os\n",
    "import time\n",
    "import math\n",
    "import json\n",
    "import logging\n",
    "from datetime import datetime\n",
    "\n",
    "from binance.spot import Spot\n",
    "from binance.error import ClientError\n",
    "\n",
    "import smtplib\n",
    "from email.message import EmailMessage\n",
    "import mimetypes"
   ]
  },
  {
   "cell_type": "markdown",
   "id": "df6ab02e",
   "metadata": {},
   "source": [
    "# Function Definition for Strategy"
   ]
  },
  {
   "cell_type": "code",
   "execution_count": null,
   "id": "654c7775",
   "metadata": {},
   "outputs": [],
   "source": [
    "class Strategy():\n",
    "    def __init__(self, config_file_name: str):\n",
    "        self.config = self.load_config(config_file_name)\n",
    "        self.logger, self._log_path = self.setup_logging()\n",
    "        self.is_connected, self._bn_client = self.connect_to_server()\n",
    "    \n",
    "    def cancel_staled_orders(self) -> None:\n",
    "        if not os.path.isfile(self.config['pending_order_file']):\n",
    "            return\n",
    "\n",
    "        with open(self.config['pending_order_file'], \"r\") as f:\n",
    "            orders = json.load(f)\n",
    "\n",
    "        self.logger.info(\"=== Cancelling the staled orders ===\")\n",
    "        still_pending = []\n",
    "        for order in orders:\n",
    "            try:\n",
    "                order = self._bn_client.get_order(symbol=order[\"symbol\"], orderId=order[\"orderId\"])\n",
    "                if order[\"status\"] in (\"NEW\", \"PARTIALLY_FILLED\"):\n",
    "                    self._bn_client.cancel_order(symbol=order[\"symbol\"], orderId=order[\"orderId\"])\n",
    "                    self.logger.info(\"The stale order id {} for {} is cancelled\".format(order['orderId'], order['symbol']))\n",
    "                else:\n",
    "                    self.logger.info(\"Order {} already {}\".format(order['orderId'], order['status']))\n",
    "            except ClientError as error:\n",
    "                self.logger.error(\"Unable to check the order id.\")\n",
    "                self.logger.error(\n",
    "                \"Found error. status: {}, error code: {}, error message: {}\".format(\n",
    "                    error.status_code, error.error_code, error.error_message\n",
    "                )\n",
    "            )\n",
    "                still_pending.append(order)  # keep the orders\n",
    "\n",
    "        # Clear or keep only the orders that are not yet processed.\n",
    "        with open(self.config['pending_order_file'], \"w\") as f:\n",
    "            json.dump(still_pending, f, indent=2)\n",
    "    \n",
    "    def check_available_balance(self) -> dict:\n",
    "        try:\n",
    "            account_info = self._bn_client.account()\n",
    "            self.logger.debug(account_info)\n",
    "            available_balance = float([item['free'] for item in account_info['balances'] if item['asset'] == self.config['base_token']][0])\n",
    "            dic = {'success': True, 'available_balance': available_balance}\n",
    "\n",
    "            return dic\n",
    "        \n",
    "        except ClientError as error:\n",
    "            self.logger.error(\"Unable to check available balance.\")\n",
    "            self.logger.error(\n",
    "                \"Found error. status: {}, error code: {}, error message: {}\".format(\n",
    "                    error.status_code, error.error_code, error.error_message\n",
    "                )\n",
    "            )\n",
    "            return {'success': False, 'available_balance': None}\n",
    "        \n",
    "    def connect_to_server(self) -> tuple:\n",
    "        self.logger.info(\"== Connecting to Binance server... ==\")\n",
    "        bn_client = Spot(self.config['api_key'], self.config['api_secret'])\n",
    "        \n",
    "        try:\n",
    "            bn_client.account()\n",
    "            self.logger.info(\"The server is connected.\")\n",
    "            is_connected = True\n",
    "\n",
    "        except ClientError as error:\n",
    "            self.logger.error(\"The server is NOT connected!!!\")\n",
    "            self.logger.error(\n",
    "                    \"Found error. status: {}, error code: {}, error message: {}\".format(\n",
    "                        error.status_code, error.error_code, error.error_message\n",
    "                    )\n",
    "                )\n",
    "            is_connected = False\n",
    "        \n",
    "        return is_connected, bn_client\n",
    "    \n",
    "    def dca(self) -> dict:\n",
    "        self.logger.info(\"== Making DCA order... ==\")\n",
    "\n",
    "        try:\n",
    "            self.logger.info(\"Getting the price...\")\n",
    "            ticker = self._bn_client.ticker_24hr(self.config['quote_token'] + self.config['base_token'])\n",
    "            self.logger.debug(ticker)\n",
    "\n",
    "        except ClientError as error:\n",
    "            self.logger.error(\"Unable to get the price.\")\n",
    "            self.logger.error(\n",
    "                \"Found error. status: {}, error code: {}, error message: {}\".format(\n",
    "                    error.status_code, error.error_code, error.error_message\n",
    "                )\n",
    "            )\n",
    "            return {'success': False, 'response': {}}\n",
    "        \n",
    "        symbol = ticker['symbol']\n",
    "        avg_price = avg_price = float(ticker['lastPrice']) + (float(ticker['openPrice']) - float(ticker['lastPrice'])) / 2\n",
    "        current_price = float(ticker['lastPrice'])\n",
    "\n",
    "        if current_price - self.config['offset'] < avg_price:\n",
    "            target_price = current_price - self.config['offset']\n",
    "        else:\n",
    "            target_price = avg_price\n",
    "\n",
    "        if target_price > self.config['max_price']:\n",
    "            self.logger.warning(f\"Target price {target_price} is higher than max allowed {self.config['max_price']}. Skip placing order.\")\n",
    "            return {'success': False, 'response': {}}\n",
    "\n",
    "        symbol_precision_response = self.get_symbol_precision(symbol)\n",
    "\n",
    "        if (symbol_precision_response['success']):\n",
    "            buy_quantity = math.floor(self.config['dca_amount'] / (current_price - self.config['offset']) * (10 ** symbol_precision_response['quantity_precision'])) / 10 ** symbol_precision_response['quantity_precision']\n",
    "            buy_price = round(target_price, symbol_precision_response['price_precision'])\n",
    "        else:\n",
    "            self.logger.error(\"The order has failed.\")\n",
    "            return {'success': False, 'response': {}}\n",
    "\n",
    "        params = {\n",
    "        'symbol': symbol,\n",
    "        'side': 'BUY',\n",
    "        'type': 'LIMIT',\n",
    "        'timeInForce': 'GTC',\n",
    "        'quantity': buy_quantity,\n",
    "        'price': buy_price\n",
    "        }\n",
    "\n",
    "        try:\n",
    "            response = self._bn_client.new_order(**params)\n",
    "            self.logger.info(response)\n",
    "            self.logger.info(\"Order successful! The price is {}.\".format(buy_price))\n",
    "            self.save_order_to_file(response['symbol'], response['orderId'])\n",
    "\n",
    "            dic = {'success': True, 'response': response}\n",
    "            \n",
    "            return dic\n",
    "        \n",
    "        except ClientError as error:\n",
    "            self.logger.error(\"The order has failed.\")\n",
    "            self.logger.error(\n",
    "                \"Found error. status: {}, error code: {}, error message: {}\".format(\n",
    "                    error.status_code, error.error_code, error.error_message\n",
    "                )\n",
    "            )\n",
    "            return {'success': False, 'response': {}}\n",
    "\n",
    "    def send_email(self, order_response: dict) -> None:\n",
    "        try:\n",
    "            email_config = self.config['email']\n",
    "\n",
    "            msg = EmailMessage()\n",
    "            msg['From'] = email_config['sender']\n",
    "            msg['To'] = email_config['receiver']\n",
    "            date = datetime.now().strftime(\"%Y%m%d\")\n",
    "\n",
    "            # Decide the subject and the content\n",
    "            if order_response['success']:\n",
    "                msg['Subject'] = \"[{}] {} - Success {}\".format(email_config['subject'], self.config['quote_token'] + self.config['base_token'], date)\n",
    "                msg.set_content(\"Congratuations! The order is created.\\nOrder info:\\nSymbol: {}\\tPrice: {}\\tOrder id: {}\".format(\n",
    "                    order_response['response']['symbol'], order_response['response']['price'], order_response['response']['orderId']))\n",
    "            else:\n",
    "                msg['Subject'] = \"[{}] {} - Fail {}\".format(email_config['subject'], self.config['quote_token'] + self.config['base_token'], date)\n",
    "                msg.set_content(\"Order is not created, please check the log file.\")\n",
    "\n",
    "            # Attach the log file\n",
    "            with open(self._log_path, 'rb') as f:\n",
    "                file_data = f.read()\n",
    "                maintype, subtype = mimetypes.guess_type(self._log_path)[0].split('/')\n",
    "                msg.add_attachment(file_data, maintype=maintype, subtype=subtype, filename=os.path.basename(self._log_path))\n",
    "\n",
    "            # Send the email\n",
    "            with smtplib.SMTP_SSL(email_config['smtp_server'], email_config['smtp_port']) as server:\n",
    "                server.login(email_config['sender'], email_config['app_password'])\n",
    "                server.send_message(msg)\n",
    "\n",
    "            self.logger.info(\"Email sent successfully.\")\n",
    "\n",
    "        except Exception as error:\n",
    "            self.logger.error(f\"Failed to send email: {error}\")\n",
    "\n",
    "    def get_flexible_product_position(self) -> dict:\n",
    "        try:\n",
    "            response = self._bn_client.get_flexible_product_position(\n",
    "                current=1, size=100, recvWindow=5000\n",
    "            )\n",
    "            self.logger.debug(response)\n",
    "            position = [item for item in response['rows'] if item['asset'] == self.config['base_token']][0]\n",
    "            dic = {'success': True, 'position': position}\n",
    "\n",
    "            return dic\n",
    "        \n",
    "        except ClientError as error:\n",
    "            self.logger.error(\"Unable to get position name.\")\n",
    "            self.logger.error(\n",
    "                \"Found error. status: {}, error code: {}, error message: {}\".format(\n",
    "                    error.status_code, error.error_code, error.error_message\n",
    "                )\n",
    "            )\n",
    "            return {'success': False, 'position': None}\n",
    "        \n",
    "        except:\n",
    "            self.logger.warning(\"There is no position of the reddem token or it is unsupported.\")\n",
    "            return {'success': False, 'position': None}\n",
    "        \n",
    "    def get_symbol_precision(self, symbol: str) -> dict:\n",
    "        self.logger.info(\"== Getting precision information... ==\")\n",
    "        try:\n",
    "            info = self._bn_client.exchange_info(symbol=symbol)\n",
    "            self.logger.info(\"Got the information from the server.\")\n",
    "            filters = info['symbols'][0]['filters']\n",
    "\n",
    "            for f in filters:\n",
    "                if f['filterType'] == 'LOT_SIZE':\n",
    "                    step_size = float(f['stepSize'])\n",
    "                    quantity_precision = abs(round(math.log10(step_size)))\n",
    "                elif f['filterType'] == 'PRICE_FILTER':\n",
    "                    tick_size = float(f['tickSize'])\n",
    "                    price_precision = abs(round(math.log10(tick_size)))\n",
    "\n",
    "            dic = {'success': True, 'quantity_precision': quantity_precision, 'price_precision': price_precision}\n",
    "            return dic\n",
    "        \n",
    "        except ClientError as error:\n",
    "            self.logger.info(\"Unable to get the information from the server.\")\n",
    "            self.logger.error(\n",
    "                    \"Found error. status: {}, error code: {}, error message: {}\".format(\n",
    "                        error.status_code, error.error_code, error.error_message\n",
    "                    )\n",
    "                )\n",
    "            \n",
    "            dic = {'success': False, 'quantity_precision': None, 'price_precision': None}\n",
    "            return dic\n",
    "\n",
    "    def redeem_flexible_product(self) -> dict:\n",
    "        position_response = self.get_flexible_product_position()\n",
    "        available_balance_response = self.check_available_balance()\n",
    "        self.logger.info(\"== Start redeeming... ==\")\n",
    "\n",
    "        if (position_response['success']):\n",
    "            product_id = position_response['position']['productId']\n",
    "        else:\n",
    "            self.logger.error(\"Unable to get the flexible position.\")\n",
    "\n",
    "        if (available_balance_response['success']):\n",
    "            redeem_amount = self.config['dca_amount'] - available_balance_response['available_balance']\n",
    "            if redeem_amount <= 0:\n",
    "                self.logger.info(\"The amount in the spot account is enough, no need to redeem.\")\n",
    "            else:\n",
    "                self.logger.info(\"Actually redeem amount: {}.\".format(redeem_amount))\n",
    "        else:\n",
    "            redeem_amount = self.config['dca_amount']\n",
    "            self.logger.info(\"Unable to get available balance, actually redeem amount: {}.\".format(redeem_amount))\n",
    "\n",
    "        try:\n",
    "            response = self._bn_client.redeem_flexible_product(\n",
    "                product_id, amount=redeem_amount, recvWindow=5000\n",
    "            )\n",
    "            self.logger.debug(response)\n",
    "            self.logger.info(\"Redeem successful! {} {} is redeemed to spot account.\".format(redeem_amount, self.config['base_token']))\n",
    "\n",
    "        except ClientError as error:\n",
    "            self.logger.warning(\n",
    "                \"Found warning. status: {}, error code: {}, error message: {}\".format(\n",
    "                    error.status_code, error.error_code, error.error_message\n",
    "                )\n",
    "            )\n",
    "            return {'success': False, 'response': {}}\n",
    "\n",
    "        dic = {'success': True, 'response': response}\n",
    "        return dic\n",
    "\n",
    "    def save_order_to_file(self, symbol: str, order_id: int) -> None:\n",
    "        data = []\n",
    "        \n",
    "        if os.path.isfile(self.config['pending_order_file']):\n",
    "            with open(self.config['pending_order_file'], \"r\") as f:\n",
    "                data = json.load(f)\n",
    "        else:\n",
    "            self.logger.info(\"Pending order file is not exist.\")\n",
    "            self.logger.info(\"Creating...\")\n",
    "\n",
    "        data.append({\"symbol\": symbol, \"orderId\": order_id})\n",
    "        with open(self.config['pending_order_file'], \"w\") as f:\n",
    "            json.dump(data, f, indent=2)\n",
    "    \n",
    "    def load_config(self, path: str = \"config.json\") -> dict:\n",
    "        with open(path, 'r') as file:\n",
    "            return json.load(file)\n",
    "\n",
    "    def setup_logging(self) -> tuple:\n",
    "        # for jupyter\n",
    "        root_logger = logging.getLogger()\n",
    "        if root_logger.hasHandlers():\n",
    "            root_logger.handlers.clear()\n",
    "        \n",
    "        os.makedirs(self.config['log_dir'], exist_ok=True)\n",
    "        timestamp = datetime.now().strftime(\"%Y%m%d_%H%M%S\")\n",
    "        log_filename = \"log_{}.txt\".format(timestamp)\n",
    "        log_path = os.path.join(self.config['log_dir'], log_filename)\n",
    "\n",
    "        logging.basicConfig(\n",
    "            level=logging.INFO,\n",
    "            format='%(asctime)s [%(levelname)s] %(message)s',\n",
    "            handlers=[\n",
    "                logging.FileHandler(log_path, mode='w', encoding='utf-8'),\n",
    "                logging.StreamHandler()\n",
    "            ]\n",
    "        )\n",
    "\n",
    "        return logging.getLogger(__name__), log_path\n"
   ]
  },
  {
   "cell_type": "markdown",
   "id": "f7ec456e",
   "metadata": {},
   "source": [
    "# Main flow definition"
   ]
  },
  {
   "cell_type": "code",
   "execution_count": null,
   "id": "98cbf189",
   "metadata": {},
   "outputs": [],
   "source": [
    "def dca_strategy():\n",
    "    # get the abs path of config.json (for jupyter notebook)\n",
    "    CURRENT_PATH = os.getcwd()\n",
    "    CONFIG_PATH = os.path.join(CURRENT_PATH, \"../config.json\")\n",
    "    \n",
    "    client = Strategy(CONFIG_PATH)\n",
    "    client.logger.info(\"=== START TASK ===\")\n",
    "\n",
    "    if client.is_connected:\n",
    "        \n",
    "        # clear the staled orders\n",
    "        if client.config['enable_revoke_stale_order']:\n",
    "            client.cancel_staled_orders()\n",
    "\n",
    "        redeem_response = client.redeem_flexible_product()\n",
    "\n",
    "        if redeem_response['success']:\n",
    "            client.logger.info(\"Waiting 10 seconds before placing order...\")\n",
    "            time.sleep(10)\n",
    "\n",
    "        order_response = client.dca()\n",
    "\n",
    "    else:\n",
    "        order_response = {'success': False}\n",
    "\n",
    "    client.logger.info(\"=== END TASK ===\")\n",
    "\n",
    "    if client.config['enable_email']:\n",
    "        client.send_email(order_response)"
   ]
  },
  {
   "cell_type": "markdown",
   "id": "b7914676",
   "metadata": {},
   "source": [
    "# Main flow"
   ]
  },
  {
   "cell_type": "code",
   "execution_count": 9,
   "id": "d6fd6178",
   "metadata": {},
   "outputs": [
    {
     "name": "stdout",
     "output_type": "stream",
     "text": [
      "/home/opc/binance/trading_strategies/config.json\n"
     ]
    },
    {
     "ename": "NameError",
     "evalue": "name 'Strategy' is not defined",
     "output_type": "error",
     "traceback": [
      "\u001b[31m---------------------------------------------------------------------------\u001b[39m",
      "\u001b[31mNameError\u001b[39m                                 Traceback (most recent call last)",
      "\u001b[36mCell\u001b[39m\u001b[36m \u001b[39m\u001b[32mIn[9]\u001b[39m\u001b[32m, line 1\u001b[39m\n\u001b[32m----> \u001b[39m\u001b[32m1\u001b[39m \u001b[43mdca_strategy\u001b[49m\u001b[43m(\u001b[49m\u001b[43m)\u001b[49m\n",
      "\u001b[36mCell\u001b[39m\u001b[36m \u001b[39m\u001b[32mIn[8]\u001b[39m\u001b[32m, line 6\u001b[39m, in \u001b[36mdca_strategy\u001b[39m\u001b[34m()\u001b[39m\n\u001b[32m      4\u001b[39m CONFIG_PATH = os.path.join(CURRENT_PATH, \u001b[33m\"\u001b[39m\u001b[33mconfig.json\u001b[39m\u001b[33m\"\u001b[39m)\n\u001b[32m      5\u001b[39m \u001b[38;5;28mprint\u001b[39m(CONFIG_PATH)\n\u001b[32m----> \u001b[39m\u001b[32m6\u001b[39m client = \u001b[43mStrategy\u001b[49m(CONFIG_PATH)\n\u001b[32m      7\u001b[39m client.logger.info(\u001b[33m\"\u001b[39m\u001b[33m=== START TASK ===\u001b[39m\u001b[33m\"\u001b[39m)\n\u001b[32m      9\u001b[39m \u001b[38;5;28;01mif\u001b[39;00m client.is_connected:\n\u001b[32m     10\u001b[39m \n\u001b[32m     11\u001b[39m     \u001b[38;5;66;03m# clear the staled orders\u001b[39;00m\n",
      "\u001b[31mNameError\u001b[39m: name 'Strategy' is not defined"
     ]
    }
   ],
   "source": [
    "dca_strategy()"
   ]
  },
  {
   "cell_type": "markdown",
   "id": "0d7ee0e2",
   "metadata": {},
   "source": [
    "## Unit test"
   ]
  },
  {
   "cell_type": "code",
   "execution_count": 21,
   "id": "f9e327c0",
   "metadata": {},
   "outputs": [
    {
     "name": "stderr",
     "output_type": "stream",
     "text": [
      "2025-05-17 20:46:19,785 [INFO] == Connecting to Binance server... ==\n",
      "2025-05-17 20:46:19,812 [INFO] The server is connected.\n"
     ]
    },
    {
     "data": {
      "text/plain": [
       "True"
      ]
     },
     "execution_count": 21,
     "metadata": {},
     "output_type": "execute_result"
    }
   ],
   "source": [
    "client = Strategy(\"../config.json\")\n",
    "\n",
    "client.is_connected"
   ]
  },
  {
   "cell_type": "code",
   "execution_count": 22,
   "id": "3d01db05",
   "metadata": {},
   "outputs": [
    {
     "name": "stderr",
     "output_type": "stream",
     "text": [
      "2025-05-17 20:46:26,546 [INFO] == Connecting to Binance server... ==\n",
      "2025-05-17 20:46:26,569 [INFO] The server is connected.\n"
     ]
    },
    {
     "data": {
      "text/plain": [
       "{'success': True,\n",
       " 'position': {'totalAmount': '82.03745674',\n",
       "  'tierAnnualPercentageRate': {'0-200USDT': '0.05000000'},\n",
       "  'latestAnnualPercentageRate': '0.02286619',\n",
       "  'asset': 'USDT',\n",
       "  'canRedeem': True,\n",
       "  'collateralAmount': '0',\n",
       "  'productId': 'USDT001',\n",
       "  'yesterdayRealTimeRewards': '0.01835841',\n",
       "  'cumulativeBonusRewards': '3.10986122',\n",
       "  'cumulativeRealTimeRewards': '4.72846487',\n",
       "  'cumulativeTotalRewards': '18.94657668',\n",
       "  'autoSubscribe': True}}"
      ]
     },
     "execution_count": 22,
     "metadata": {},
     "output_type": "execute_result"
    }
   ],
   "source": [
    "client = Strategy(\"../config.json\")\n",
    "\n",
    "response = client.get_flexible_product_position()\n",
    "response"
   ]
  },
  {
   "cell_type": "code",
   "execution_count": 23,
   "id": "a8028774",
   "metadata": {},
   "outputs": [
    {
     "name": "stderr",
     "output_type": "stream",
     "text": [
      "2025-05-17 20:47:04,274 [INFO] == Connecting to Binance server... ==\n",
      "2025-05-17 20:47:04,304 [INFO] The server is connected.\n"
     ]
    },
    {
     "data": {
      "text/plain": [
       "{'success': True, 'available_balance': 50.0}"
      ]
     },
     "execution_count": 23,
     "metadata": {},
     "output_type": "execute_result"
    }
   ],
   "source": [
    "client = Strategy(\"../config.json\")\n",
    "\n",
    "response = client.check_available_balance()\n",
    "response"
   ]
  },
  {
   "cell_type": "code",
   "execution_count": 24,
   "id": "9f4b8263",
   "metadata": {},
   "outputs": [
    {
     "name": "stderr",
     "output_type": "stream",
     "text": [
      "2025-05-17 20:47:32,143 [INFO] == Connecting to Binance server... ==\n",
      "2025-05-17 20:47:32,193 [INFO] The server is connected.\n",
      "2025-05-17 20:47:32,328 [INFO] == Start redeeming... ==\n",
      "2025-05-17 20:47:32,328 [INFO] The amount in the spot account is enough, no need to redeem.\n",
      "2025-05-17 20:47:32,361 [WARNING] Found warning. status: 400, error code: -1102, error message: Mandatory parameter 'amount' was not sent, was empty/null, or malformed.\n"
     ]
    },
    {
     "data": {
      "text/plain": [
       "{'success': False, 'response': {}}"
      ]
     },
     "execution_count": 24,
     "metadata": {},
     "output_type": "execute_result"
    }
   ],
   "source": [
    "client = Strategy(\"../config.json\")\n",
    "\n",
    "response = client.redeem_flexible_product()\n",
    "response"
   ]
  },
  {
   "cell_type": "code",
   "execution_count": 26,
   "id": "4ba2258b",
   "metadata": {},
   "outputs": [
    {
     "name": "stderr",
     "output_type": "stream",
     "text": [
      "2025-05-17 20:48:45,528 [INFO] == Connecting to Binance server... ==\n",
      "2025-05-17 20:48:45,650 [INFO] The server is connected.\n",
      "2025-05-17 20:48:45,652 [INFO] == Getting precision information... ==\n",
      "2025-05-17 20:48:45,664 [INFO] Got the information from the server.\n"
     ]
    },
    {
     "data": {
      "text/plain": [
       "{'success': True, 'quantity_precision': 5, 'price_precision': 2}"
      ]
     },
     "execution_count": 26,
     "metadata": {},
     "output_type": "execute_result"
    }
   ],
   "source": [
    "client = Strategy(\"../config.json\")\n",
    "symbol = \"BTCUSDT\"\n",
    "\n",
    "response = client.get_symbol_precision(symbol)\n",
    "response"
   ]
  },
  {
   "cell_type": "code",
   "execution_count": 27,
   "id": "9690973b",
   "metadata": {},
   "outputs": [
    {
     "name": "stderr",
     "output_type": "stream",
     "text": [
      "2025-05-17 20:49:08,539 [INFO] == Connecting to Binance server... ==\n",
      "2025-05-17 20:49:08,566 [INFO] The server is connected.\n",
      "2025-05-17 20:49:08,567 [INFO] == Making DCA order... ==\n",
      "2025-05-17 20:49:08,568 [INFO] Getting the price...\n",
      "2025-05-17 20:49:08,585 [WARNING] Target price 102553.29 is higher than max allowed 100000. Skip placing order.\n"
     ]
    },
    {
     "data": {
      "text/plain": [
       "{'success': False, 'response': {}}"
      ]
     },
     "execution_count": 27,
     "metadata": {},
     "output_type": "execute_result"
    }
   ],
   "source": [
    "client = Strategy(\"../config.json\")\n",
    "\n",
    "response = client.dca()\n",
    "response"
   ]
  },
  {
   "cell_type": "code",
   "execution_count": 28,
   "id": "6054fa3a",
   "metadata": {},
   "outputs": [
    {
     "name": "stderr",
     "output_type": "stream",
     "text": [
      "2025-05-17 20:49:32,585 [INFO] == Connecting to Binance server... ==\n",
      "2025-05-17 20:49:32,615 [INFO] The server is connected.\n"
     ]
    }
   ],
   "source": [
    "client = Strategy(\"../config.json\")\n",
    "\n",
    "client.cancel_staled_orders()"
   ]
  }
 ],
 "metadata": {
  "kernelspec": {
   "display_name": "binance",
   "language": "python",
   "name": "python3"
  },
  "language_info": {
   "codemirror_mode": {
    "name": "ipython",
    "version": 3
   },
   "file_extension": ".py",
   "mimetype": "text/x-python",
   "name": "python",
   "nbconvert_exporter": "python",
   "pygments_lexer": "ipython3",
   "version": "3.12.7"
  }
 },
 "nbformat": 4,
 "nbformat_minor": 5
}
